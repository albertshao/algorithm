{
 "cells": [
  {
   "cell_type": "code",
   "execution_count": 64,
   "metadata": {},
   "outputs": [],
   "source": [
    "\"\"\"\n",
    "Queue is an abstract data structure, somewhat similar to Stacks. \n",
    "Unlike stacks, a queue is open at both its ends. O\n",
    "ne end is always used to insert data (enqueue) and the other is used to remove data (dequeue). \n",
    "Queue follows First-In-First-Out methodology,\n",
    "i.e., the data item stored first will be accessed first.\n",
    "\"\"\"\n",
    "\n",
    "class Node(object):\n",
    "    \"\"\"\n",
    "    Construct the Node object used to create Queue.\n",
    "    \"\"\"\n",
    "    def __init__(self, d):\n",
    "        self.data = d\n",
    "        self.previous = None \n",
    "        self.next = None \n",
    "    \n",
    "    def __repr__(self):     \n",
    "        return \"<data:%s>\" % self.data\n",
    "\n",
    "\n",
    "class Queue(object):\n",
    "    \"\"\"\n",
    "    Construct the Queue Object.\n",
    "    \"\"\"\n",
    "    def __init__(self):\n",
    "        self.size = 0 \n",
    "        self.tail = None \n",
    "        self.head = None \n",
    "        \n",
    "    \n",
    "    def insert(self, data):\n",
    "        \"\"\"\n",
    "        Insert the new node to the queue. \n",
    "        Args: \n",
    "            data: any object, the specific value. \n",
    "        Returns:\n",
    "            Result: Boolean, True or False \n",
    "        \"\"\"\n",
    "        # Init the new node \n",
    "        new_node = Node(data)\n",
    "      \n",
    "        if self.head is None:\n",
    "            self.head = new_node\n",
    "        else:\n",
    "            node = self.head\n",
    "            while node.next is not None: \n",
    "                node = node.next\n",
    "            new_node.previous = node \n",
    "            node.next = new_node\n",
    "        \n",
    "        # Increase the size and set tail node.\n",
    "        self.tail = new_node\n",
    "        self.size += 1\n",
    "                \n",
    "        return True\n",
    "    \n",
    "             \n",
    "    def to_list(self):\n",
    "        \"\"\"\n",
    "        List the all the elements stored in the Queue.\n",
    "        Returns:\n",
    "            order_list: Python List, the order list from head to tail.\n",
    "        \"\"\"\n",
    "        \n",
    "        order_list = []\n",
    "        if self.head:\n",
    "            node = self.head\n",
    "            while node is not None:\n",
    "                order_list.append(node)\n",
    "                node = node.next \n",
    "        \n",
    "        return order_list\n",
    "    \n",
    "    def peek(self):\n",
    "        \"\"\"\n",
    "        Get the head of Queue, it will not remove the head node.\n",
    "        Return:\n",
    "            value: Any Object, the value of the head, or None if empty queue.\n",
    "        \"\"\"\n",
    "        if self.head is None:\n",
    "            return None \n",
    "        else:\n",
    "            return self.head.data \n",
    "    \n",
    "    def pop(self):\n",
    "        \"\"\"\n",
    "        Get the head of Queue and meanwhile remove the head node.\n",
    "        Returns:\n",
    "            value: Any Object, the value of the head, or None if empty queue.\n",
    "        \"\"\"\n",
    "        \n",
    "        if self.head is None:\n",
    "            return None \n",
    "        else:\n",
    "            value = self.head.data \n",
    "            self.head = self.head.next \n",
    "            self.size -= 1\n",
    "            return value\n",
    "        \n",
    "        \n",
    "        "
   ]
  },
  {
   "cell_type": "code",
   "execution_count": 53,
   "metadata": {},
   "outputs": [
    {
     "data": {
      "text/plain": [
       "[<data:2>, <data:5>, <data:7>]"
      ]
     },
     "execution_count": 53,
     "metadata": {},
     "output_type": "execute_result"
    }
   ],
   "source": [
    "queue = Queue()\n",
    "queue.insert(2)\n",
    "queue.insert(5)\n",
    "queue.insert(7)\n",
    "queue.to_list()\n"
   ]
  },
  {
   "cell_type": "code",
   "execution_count": 54,
   "metadata": {},
   "outputs": [
    {
     "data": {
      "text/plain": [
       "2"
      ]
     },
     "execution_count": 54,
     "metadata": {},
     "output_type": "execute_result"
    }
   ],
   "source": [
    "queue.peek()"
   ]
  },
  {
   "cell_type": "code",
   "execution_count": 55,
   "metadata": {},
   "outputs": [
    {
     "data": {
      "text/plain": [
       "[<data:2>, <data:5>, <data:7>]"
      ]
     },
     "execution_count": 55,
     "metadata": {},
     "output_type": "execute_result"
    }
   ],
   "source": [
    "queue.to_list()"
   ]
  },
  {
   "cell_type": "code",
   "execution_count": 56,
   "metadata": {},
   "outputs": [],
   "source": [
    "queue.pop()"
   ]
  },
  {
   "cell_type": "code",
   "execution_count": 59,
   "metadata": {},
   "outputs": [
    {
     "data": {
      "text/plain": [
       "[<data:5>, <data:7>]"
      ]
     },
     "execution_count": 59,
     "metadata": {},
     "output_type": "execute_result"
    }
   ],
   "source": [
    "queue.to_list()\n"
   ]
  },
  {
   "cell_type": "code",
   "execution_count": 60,
   "metadata": {},
   "outputs": [
    {
     "data": {
      "text/plain": [
       "True"
      ]
     },
     "execution_count": 60,
     "metadata": {},
     "output_type": "execute_result"
    }
   ],
   "source": [
    "queue.insert(9)"
   ]
  },
  {
   "cell_type": "code",
   "execution_count": 61,
   "metadata": {},
   "outputs": [
    {
     "data": {
      "text/plain": [
       "[<data:5>, <data:7>, <data:9>]"
      ]
     },
     "execution_count": 61,
     "metadata": {},
     "output_type": "execute_result"
    }
   ],
   "source": [
    "queue.to_list()"
   ]
  },
  {
   "cell_type": "code",
   "execution_count": 62,
   "metadata": {},
   "outputs": [
    {
     "data": {
      "text/plain": [
       "3"
      ]
     },
     "execution_count": 62,
     "metadata": {},
     "output_type": "execute_result"
    }
   ],
   "source": [
    "queue.size"
   ]
  },
  {
   "cell_type": "code",
   "execution_count": 63,
   "metadata": {},
   "outputs": [
    {
     "data": {
      "text/plain": [
       "<data:9>"
      ]
     },
     "execution_count": 63,
     "metadata": {},
     "output_type": "execute_result"
    }
   ],
   "source": [
    "queue.tail"
   ]
  },
  {
   "cell_type": "code",
   "execution_count": null,
   "metadata": {},
   "outputs": [],
   "source": []
  }
 ],
 "metadata": {
  "kernelspec": {
   "display_name": "Python 3",
   "language": "python",
   "name": "python3"
  },
  "language_info": {
   "codemirror_mode": {
    "name": "ipython",
    "version": 3
   },
   "file_extension": ".py",
   "mimetype": "text/x-python",
   "name": "python",
   "nbconvert_exporter": "python",
   "pygments_lexer": "ipython3",
   "version": "3.7.4"
  }
 },
 "nbformat": 4,
 "nbformat_minor": 2
}
