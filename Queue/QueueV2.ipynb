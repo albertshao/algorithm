{
 "cells": [
  {
   "cell_type": "code",
   "execution_count": 9,
   "metadata": {},
   "outputs": [],
   "source": [
    "class Queue(object):\n",
    "    \"\"\"\n",
    "    Use the Python List to implement the Queue whose feature is First-IN-First-Out\n",
    "    \"\"\"\n",
    "    def __init__(self):\n",
    "        self.cache = []\n",
    "    \n",
    "    def insert(self, data):\n",
    "        self.cache.append(data)\n",
    "        \n",
    "    def peek(self):\n",
    "        if not self.cache:\n",
    "            return None\n",
    "        else:\n",
    "            return self.cache[0]\n",
    "        \n",
    "    def pop(self):\n",
    "        if not self.cache:\n",
    "            return None\n",
    "        else: \n",
    "            return self.cache.pop(0)\n",
    "    \n",
    "    def to_list(self):\n",
    "        return self.cache\n",
    "    \n",
    "    def size(self):\n",
    "        return len(self.cache)"
   ]
  },
  {
   "cell_type": "code",
   "execution_count": 10,
   "metadata": {},
   "outputs": [
    {
     "data": {
      "text/plain": [
       "[2, 5, 7]"
      ]
     },
     "execution_count": 10,
     "metadata": {},
     "output_type": "execute_result"
    }
   ],
   "source": [
    "queue = Queue()\n",
    "queue.insert(2)\n",
    "queue.insert(5)\n",
    "queue.insert(7)\n",
    "queue.to_list()"
   ]
  },
  {
   "cell_type": "code",
   "execution_count": 11,
   "metadata": {},
   "outputs": [
    {
     "data": {
      "text/plain": [
       "2"
      ]
     },
     "execution_count": 11,
     "metadata": {},
     "output_type": "execute_result"
    }
   ],
   "source": [
    "queue.pop()"
   ]
  },
  {
   "cell_type": "code",
   "execution_count": 12,
   "metadata": {},
   "outputs": [
    {
     "data": {
      "text/plain": [
       "[5, 7]"
      ]
     },
     "execution_count": 12,
     "metadata": {},
     "output_type": "execute_result"
    }
   ],
   "source": [
    "queue.to_list()"
   ]
  },
  {
   "cell_type": "code",
   "execution_count": null,
   "metadata": {},
   "outputs": [],
   "source": []
  }
 ],
 "metadata": {
  "kernelspec": {
   "display_name": "Python 3",
   "language": "python",
   "name": "python3"
  },
  "language_info": {
   "codemirror_mode": {
    "name": "ipython",
    "version": 3
   },
   "file_extension": ".py",
   "mimetype": "text/x-python",
   "name": "python",
   "nbconvert_exporter": "python",
   "pygments_lexer": "ipython3",
   "version": "3.7.4"
  }
 },
 "nbformat": 4,
 "nbformat_minor": 2
}
