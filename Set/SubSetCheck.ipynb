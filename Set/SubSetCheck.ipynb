{
 "cells": [
  {
   "cell_type": "code",
   "execution_count": 28,
   "metadata": {},
   "outputs": [
    {
     "data": {
      "text/plain": [
       "'3.7.4 (v3.7.4:e09359112e, Jul  8 2019, 14:54:52) \\n[Clang 6.0 (clang-600.0.57)]'"
      ]
     },
     "execution_count": 28,
     "metadata": {},
     "output_type": "execute_result"
    }
   ],
   "source": [
    "import sys\n",
    "sys.version"
   ]
  },
  {
   "cell_type": "code",
   "execution_count": 24,
   "metadata": {},
   "outputs": [],
   "source": [
    "# Python3\n",
    "params = {\n",
    "    \"ImageId\": '',\n",
    "    \"RegionId\": '',\n",
    "    \"VSwitchId\": '',\n",
    "    \"SecurityGroupId\": '',\n",
    "    \"InstanceName\": '',\n",
    "    \"InstanceType\": '',\n",
    "    \"Amount\": '',\n",
    "    \"InternetMaxBandwidthOut\": '',  # 1 mean with public, 0 mean no public\n",
    "}\n",
    "REQUIRED_FIELD = [\"RegionId\", \"VSwitchId\", \"InstanceType\", \"SecurityGroupId\"]\n",
    "#问题：REQUIRED_FIELD的字段必须都在params，在返回True,不在返回False?\n"
   ]
  },
  {
   "cell_type": "markdown",
   "metadata": {},
   "source": [
    "<h2>四种方法</h2>"
   ]
  },
  {
   "cell_type": "code",
   "execution_count": 6,
   "metadata": {},
   "outputs": [],
   "source": [
    "# Method 1\n",
    "def check_required_params(params):\n",
    "    return all([field in params.keys() for field in REQUIRED_FIELD])"
   ]
  },
  {
   "cell_type": "code",
   "execution_count": 7,
   "metadata": {},
   "outputs": [
    {
     "data": {
      "text/plain": [
       "True"
      ]
     },
     "execution_count": 7,
     "metadata": {},
     "output_type": "execute_result"
    }
   ],
   "source": [
    "check_required_params(params)"
   ]
  },
  {
   "cell_type": "code",
   "execution_count": 8,
   "metadata": {},
   "outputs": [],
   "source": [
    "# Method 2:\n",
    "def check_required_params(params):\n",
    "    return set(REQUIRED_FIELD).issubset(set(params.keys()))"
   ]
  },
  {
   "cell_type": "code",
   "execution_count": 9,
   "metadata": {},
   "outputs": [
    {
     "data": {
      "text/plain": [
       "True"
      ]
     },
     "execution_count": 9,
     "metadata": {},
     "output_type": "execute_result"
    }
   ],
   "source": [
    "check_required_params(params)"
   ]
  },
  {
   "cell_type": "code",
   "execution_count": 10,
   "metadata": {},
   "outputs": [],
   "source": [
    "# Method 3:\n",
    "def check_required_params(params):\n",
    "    #return set(params.keys()) & set(REQUIRED_FIELD) == set(REQUIRED_FIELD)\n",
    "    \n",
    "    return set(params.keys()).intersection(set(REQUIRED_FIELD)) == set(REQUIRED_FIELD)"
   ]
  },
  {
   "cell_type": "code",
   "execution_count": 11,
   "metadata": {},
   "outputs": [
    {
     "data": {
      "text/plain": [
       "True"
      ]
     },
     "execution_count": 11,
     "metadata": {},
     "output_type": "execute_result"
    }
   ],
   "source": [
    "check_required_params(params)"
   ]
  },
  {
   "cell_type": "code",
   "execution_count": 13,
   "metadata": {},
   "outputs": [],
   "source": [
    "# Method 4:\n",
    "def check_required_params(params):\n",
    "    return set(params.keys()) > set(REQUIRED_FIELD)"
   ]
  },
  {
   "cell_type": "code",
   "execution_count": 14,
   "metadata": {},
   "outputs": [
    {
     "data": {
      "text/plain": [
       "True"
      ]
     },
     "execution_count": 14,
     "metadata": {},
     "output_type": "execute_result"
    }
   ],
   "source": [
    "check_required_params(params)"
   ]
  },
  {
   "cell_type": "markdown",
   "metadata": {},
   "source": [
    "<h2>测试方法四和方法二的性能</h2>"
   ]
  },
  {
   "cell_type": "code",
   "execution_count": 23,
   "metadata": {},
   "outputs": [
    {
     "name": "stdout",
     "output_type": "stream",
     "text": [
      "'check_required_params_withoperator' 0.00 sec\n",
      "True\n",
      "'check_required_params_withsubset' 0.00 sec\n",
      "True\n"
     ]
    }
   ],
   "source": [
    "def measure_time(f):\n",
    "    def timed(*args, **kw):\n",
    "        import time\n",
    "        ts = time.time()\n",
    "        result = f(*args, **kw)\n",
    "        te = time.time()\n",
    "        print ('%r %2.2f sec' % (f.__name__, te-ts))\n",
    "        return result\n",
    "    return timed\n",
    " \n",
    "def create_test_simple(num=100, rate=0.2):\n",
    "    import random\n",
    "    def _create_one():\n",
    "        import string\n",
    "        return \"\".join(random.sample(string.ascii_letters, random.randint(5, 30)))\n",
    " \n",
    "    total_list = []\n",
    "    for i in range(num):\n",
    "        total_list.append(_create_one())\n",
    " \n",
    "    selected = random.sample(total_list, int(num * rate))\n",
    " \n",
    "    return total_list, selected\n",
    " \n",
    " \n",
    "@measure_time\n",
    "def check_required_params_withoperator(params, required_field):\n",
    "    return set(params) > set(required_field)\n",
    " \n",
    "@measure_time\n",
    "def check_required_params_withsubset(params, required_field):\n",
    "    return set(required_field).issubset(set(params))\n",
    " \n",
    "if __name__ == '__main__':\n",
    "    total_list, selected = create_test_simple(100, 0.4)\n",
    "    print(check_required_params_withoperator(total_list, selected))\n",
    "    print(check_required_params_withsubset(total_list, selected))"
   ]
  },
  {
   "cell_type": "markdown",
   "metadata": {},
   "source": [
    "1、10W的总集，20%的子集<br>\n",
    "\n",
    "'check_required_params_withoperator' 0.03 sec   <br>\n",
    "\n",
    "'check_required_params_withsubset' 0.02 sec<br>\n",
    "\n",
    "2、100W的总集，40%的子集<br>\n",
    "\n",
    "'check_required_params_withoperator' 0.68 sec<br>\n",
    "'check_required_params_withsubset' 0.54 sec<br>\n"
   ]
  },
  {
   "cell_type": "code",
   "execution_count": null,
   "metadata": {},
   "outputs": [],
   "source": []
  }
 ],
 "metadata": {
  "kernelspec": {
   "display_name": "Python 3",
   "language": "python",
   "name": "python3"
  },
  "language_info": {
   "codemirror_mode": {
    "name": "ipython",
    "version": 3
   },
   "file_extension": ".py",
   "mimetype": "text/x-python",
   "name": "python",
   "nbconvert_exporter": "python",
   "pygments_lexer": "ipython3",
   "version": "3.7.4"
  }
 },
 "nbformat": 4,
 "nbformat_minor": 2
}
