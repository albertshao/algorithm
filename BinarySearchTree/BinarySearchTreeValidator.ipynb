{
 "cells": [
  {
   "cell_type": "code",
   "execution_count": 1,
   "metadata": {},
   "outputs": [],
   "source": [
    "class Node(object):\n",
    "    \"\"\"\n",
    "    Construct the node object which is the element of Binary Search Tree\n",
    "    \"\"\"\n",
    "    \n",
    "    def __init__(self, data):\n",
    "        \"\"\"\n",
    "        Initialize the Node.\n",
    "        Args:\n",
    "            data: integer, the value of node\n",
    "        \"\"\"\n",
    "        self.data = data\n",
    "        self.left = None  # Left child \n",
    "        self.right = None  # Right child"
   ]
  },
  {
   "cell_type": "code",
   "execution_count": 6,
   "metadata": {},
   "outputs": [],
   "source": [
    "import sys \n",
    "class BSTValidator(object):\n",
    "    \n",
    "    def __init__(self, tree = None):\n",
    "        self.tree = None \n",
    "        \n",
    "    \n",
    "    def validate(self, max_value, min_value, tree=None):\n",
    "        if self.tree is None and tree is None:\n",
    "            # No tree found.\n",
    "            return False \n",
    "        \n",
    "        if not (int(min_value) < int(max_value) < sys.maxint) :\n",
    "            return False \n",
    "        \n",
    "        if  min_value < self.tree.data < max_value\n",
    "            return self.validate(min(), max)\n",
    "            \n",
    "        else:\n",
    "            return False \n",
    "        \n",
    "            \n",
    "        \n",
    "    \n",
    "    \n",
    "    \n",
    "    "
   ]
  },
  {
   "cell_type": "code",
   "execution_count": null,
   "metadata": {},
   "outputs": [],
   "source": []
  }
 ],
 "metadata": {
  "kernelspec": {
   "display_name": "Python 2",
   "language": "python",
   "name": "python2"
  },
  "language_info": {
   "codemirror_mode": {
    "name": "ipython",
    "version": 2
   },
   "file_extension": ".py",
   "mimetype": "text/x-python",
   "name": "python",
   "nbconvert_exporter": "python",
   "pygments_lexer": "ipython2",
   "version": "2.7.10"
  }
 },
 "nbformat": 4,
 "nbformat_minor": 2
}
