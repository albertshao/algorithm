{
 "cells": [
  {
   "cell_type": "code",
   "execution_count": 9,
   "metadata": {},
   "outputs": [],
   "source": [
    "class Node(object):\n",
    "    \"\"\"\n",
    "    Construct the node object which is the element of Binary Search Tree\n",
    "    \"\"\"\n",
    "    \n",
    "    def __init__(self, data):\n",
    "        \"\"\"\n",
    "        Initialize the Node.\n",
    "        Args:\n",
    "            data: integer, the value of node\n",
    "        \"\"\"\n",
    "        self.data = data\n",
    "        self.left = None  # Left child \n",
    "        self.right = None  # Right child"
   ]
  },
  {
   "cell_type": "code",
   "execution_count": 31,
   "metadata": {},
   "outputs": [],
   "source": [
    "import sys \n",
    "class BSTValidator(object):\n",
    "    \"\"\"\n",
    "    Construct the bstValidator, check conditions:\n",
    "    1、the input minuint < the valute  < the input maxint \n",
    "    2、the value of left child < parent's value  < the value of the right child.\n",
    "    \"\"\"\n",
    "    def __init__(self):\n",
    "        pass\n",
    "    \n",
    "    def validate(self, min_value=sys.maxsize, max_value=sys.maxsize, node=None):\n",
    "        \"\"\"\n",
    "        Validate whether the input tree is valid.\n",
    "        Args:\n",
    "            max_value: Integer, the input maximum value, default is maxsize \n",
    "            min_value: Integer, the input minimum value, default is maxsize \n",
    "            node: Node, the current node\n",
    "        Returns:\n",
    "            Result: Boolean, True or False \n",
    "        \"\"\"\n",
    "        if node is None:\n",
    "            # No tree found.\n",
    "            return False \n",
    "        \n",
    "        if not (int(min_value) < int(max_value) < sys.maxsize):\n",
    "            return False \n",
    "        \n",
    "        if  min_value < node.data < max_value:\n",
    "            # Check whether the children are valid. \n",
    "            left_flag, right_flag = True, True\n",
    "            if node.left:\n",
    "                left_flag = self.validate(min(min_value, node.data), node.data, node.left)\n",
    "            if node.right:\n",
    "                right_flag = self.validate(node.data, max(max_value, node.data), node.right)\n",
    "                \n",
    "            return left_flag and right_flag \n",
    "            \n",
    "        else:\n",
    "            return False \n",
    "        \n",
    "            \n",
    "    "
   ]
  },
  {
   "cell_type": "code",
   "execution_count": 34,
   "metadata": {},
   "outputs": [],
   "source": [
    "root = Node(25)\n",
    "root.left = Node(38)\n",
    "root.right = Node(30)\n",
    "\n"
   ]
  },
  {
   "cell_type": "code",
   "execution_count": 37,
   "metadata": {},
   "outputs": [
    {
     "data": {
      "text/plain": [
       "False"
      ]
     },
     "execution_count": 37,
     "metadata": {},
     "output_type": "execute_result"
    }
   ],
   "source": [
    "bstvalidator = BSTValidator()\n",
    "bstvalidator.validate(10, 40, root)"
   ]
  },
  {
   "cell_type": "code",
   "execution_count": null,
   "metadata": {},
   "outputs": [],
   "source": []
  }
 ],
 "metadata": {
  "kernelspec": {
   "display_name": "Python 3",
   "language": "python",
   "name": "python3"
  },
  "language_info": {
   "codemirror_mode": {
    "name": "ipython",
    "version": 3
   },
   "file_extension": ".py",
   "mimetype": "text/x-python",
   "name": "python",
   "nbconvert_exporter": "python",
   "pygments_lexer": "ipython3",
   "version": "3.7.4"
  }
 },
 "nbformat": 4,
 "nbformat_minor": 2
}
