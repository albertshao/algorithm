{
 "cells": [
  {
   "cell_type": "markdown",
   "metadata": {},
   "source": [
    "# Materials\n",
    "1、 Youtube,[here](https://www.youtube.com/watch?v=KZVU2X4Dw8w&list=PL3Kz_hCNpKSQbpQQjSDoQ68K75gjSFaDq&index=3) <br>\n",
    "2、 Other Engineers' Code [here](https://github.com/stephengrice/youtube/tree/master/LinkedList)"
   ]
  },
  {
   "cell_type": "code",
   "execution_count": 52,
   "metadata": {},
   "outputs": [],
   "source": [
    "class Node(object):\n",
    "    \"\"\"\n",
    "    Element in the linkedList \n",
    "    \"\"\"\n",
    "    def __init__(self, d):\n",
    "        self.data = d \n",
    "        self.next = None \n",
    "    \n",
    "    def __repr__(self):\n",
    "        return '<Node:%s, Next:%s>' % (self.data, self.next != None)\n",
    "    \n",
    "    def __str__(self):    \n",
    "        return str(self)\n",
    "    \n",
    "    \n",
    "class LinkedList(object):\n",
    "    \"\"\"\n",
    "    LinkedList with adding new node in the head.\n",
    "    \"\"\"\n",
    "    def __init__(self):\n",
    "        self.size = 0 \n",
    "        self.head = None \n",
    "    \n",
    "    def add(self, data):\n",
    "        \"\"\"\n",
    "        Add new node to linked List, every time the new node will be added to the head of linkedList. \n",
    "        Example:  Before: A-C-B-F,  Action: Add M, After: M-A-C-B-F\n",
    "        Args: \n",
    "            data: any type \n",
    "        \"\"\"\n",
    "        new_node = Node(data)\n",
    "        self.size += 1\n",
    "        \n",
    "        if self.head is None:\n",
    "            self.head = new_node\n",
    "        else:\n",
    "            new_node.next = self.head \n",
    "            self.head = new_node  \n",
    "        \n",
    "    def find(self, data):\n",
    "        \"\"\"\n",
    "        Find the node whose value equals the certain data\n",
    "        Args: \n",
    "            data: any data \n",
    "        Returns:\n",
    "            node: Node type, of which the vlaue equals to data \n",
    "        \"\"\"\n",
    "        \n",
    "        node = self.head\n",
    "        while node is not None and node.data != data:\n",
    "            node = node.next \n",
    "        \n",
    "        return node \n",
    "    \n",
    "    \n",
    "    def remove(self, data):\n",
    "        \"\"\"\n",
    "        remove the node whose value is equivalent to value \n",
    "        Args: \n",
    "            data: any type, the specific value \n",
    "        \"\"\"\n",
    "        \n",
    "        prev_node = None\n",
    "        node = self.head \n",
    "        \n",
    "        while node is not None and node.data != data:\n",
    "            prev_node = node \n",
    "            node = node.next\n",
    "        \n",
    "        if node:\n",
    "            if prev_node is None:\n",
    "                self.head = node.next \n",
    "            else:\n",
    "                prev_node.next = node.next \n",
    "            \n",
    "            self.size -= 1 \n",
    "    \n",
    "    def to_list(self):\n",
    "        \"\"\"\n",
    "        Output the all nodes in the list \n",
    "        Returns:\n",
    "            node_list: Python List, the list expected all the nodes in order. \n",
    "        \"\"\"\n",
    "        node_list = []\n",
    "        index = 0 \n",
    "        node = self.head \n",
    "        while node is not None:\n",
    "            node_list.append(node)\n",
    "            node = node.next\n",
    "        \n",
    "        return node_list\n",
    "    "
   ]
  },
  {
   "cell_type": "code",
   "execution_count": 60,
   "metadata": {},
   "outputs": [],
   "source": [
    "linked_list = LinkedList()\n",
    "linked_list.add('55')\n",
    "linked_list.add('fff')\n",
    "linked_list.add('ggg')\n"
   ]
  },
  {
   "cell_type": "code",
   "execution_count": null,
   "metadata": {},
   "outputs": [],
   "source": []
  },
  {
   "cell_type": "code",
   "execution_count": 55,
   "metadata": {},
   "outputs": [
    {
     "data": {
      "text/plain": [
       "[<Node:ggg, Next:True>, <Node:fff, Next:True>, <Node:55, Next:False>]"
      ]
     },
     "execution_count": 55,
     "metadata": {},
     "output_type": "execute_result"
    }
   ],
   "source": [
    "linked_list.to_list()"
   ]
  },
  {
   "cell_type": "code",
   "execution_count": 56,
   "metadata": {},
   "outputs": [],
   "source": [
    "linked_list.add('shawn')"
   ]
  },
  {
   "cell_type": "code",
   "execution_count": 58,
   "metadata": {},
   "outputs": [
    {
     "data": {
      "text/plain": [
       "[<Node:shawn, Next:True>,\n",
       " <Node:ggg, Next:True>,\n",
       " <Node:fff, Next:True>,\n",
       " <Node:55, Next:False>]"
      ]
     },
     "execution_count": 58,
     "metadata": {},
     "output_type": "execute_result"
    }
   ],
   "source": [
    "linked_list.to_list()\n",
    "# the new node will be added to linked_list. "
   ]
  },
  {
   "cell_type": "code",
   "execution_count": null,
   "metadata": {},
   "outputs": [],
   "source": []
  }
 ],
 "metadata": {
  "kernelspec": {
   "display_name": "Python 3",
   "language": "python",
   "name": "python3"
  },
  "language_info": {
   "codemirror_mode": {
    "name": "ipython",
    "version": 3
   },
   "file_extension": ".py",
   "mimetype": "text/x-python",
   "name": "python",
   "nbconvert_exporter": "python",
   "pygments_lexer": "ipython3",
   "version": "3.7.4"
  }
 },
 "nbformat": 4,
 "nbformat_minor": 2
}
