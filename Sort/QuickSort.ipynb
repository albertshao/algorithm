{
 "cells": [
  {
   "cell_type": "markdown",
   "metadata": {},
   "source": [
    "1、Materials[here](https://www.geeksforgeeks.org/quick-sort/) <br>\n",
    "2、Youtube[here](https://www.youtube.com/watch?v=OSD4b-ih6Kc&list=PL3Kz_hCNpKSQbpQQjSDoQ68K75gjSFaDq&index=5)"
   ]
  },
  {
   "cell_type": "code",
   "execution_count": 147,
   "metadata": {},
   "outputs": [],
   "source": [
    "round_idx=0\n",
    "    \n",
    "def partitition(arr, low, high):\n",
    "    \"\"\"\n",
    "    Take the last element as pivot, place the pivot element\n",
    "    at its correct position in sorted array, and places all \n",
    "    smaller(smaller that pivot) to left of pivot and all \n",
    "    greater elements to right pivot.\n",
    "    Args:\n",
    "        arr: Python List, the expected data.\n",
    "        low: Integer, the starting index.\n",
    "        high: Integer, the ending index.\n",
    "    \n",
    "    Return:\n",
    "        pivot_index: Integer, the pivot index in this round.\n",
    "    \"\"\"\n",
    "    \n",
    "    pivot = arr[high] \n",
    "    #test code start\n",
    "    global round_idx\n",
    "    round_idx += 1\n",
    "    print('Round %s: %s, Pivot: %s' % (round_idx, arr.copy(), pivot))\n",
    "    #test code end\n",
    "        \n",
    "    i = low - 1  # initial start index.\n",
    "    for k in range(low, high): # traverse from low to high - 1\n",
    "        if arr[k] < pivot:\n",
    "            i += 1\n",
    "            \n",
    "            # swap arr[k] and arr[i]\n",
    "            arr[i], arr[k] = arr[k], arr[i] \n",
    "            \n",
    "            # test code start\n",
    "            print('\\tSwap index [%d](%d) <---> [%d](%s)' % (k, arr[i], i, arr[k]))\n",
    "            # test code end\n",
    "\n",
    "    \n",
    "    # swap arr[i+1] and pivot\n",
    "    arr[i+1], arr[high] = arr[high], arr[i+1]\n",
    "    print('\\tPivot Swap index [%d](%d) <---> [%d](%s)' % (high, arr[i+1], i+1, arr[high]))\n",
    "    return i+1\n",
    "\n",
    "    \n",
    "def quick_sort(arr, low, high):\n",
    "    \"\"\"\n",
    "    Recursively the quick sort\n",
    "    Time average complexity: nlog(n), space complexity: nlog(n).\n",
    "    Args:\n",
    "        arr: python List, the array need to be sorted.\n",
    "        low: integer, the start value is zero in the first time. \n",
    "        high: integer, the start value is length - 1 in the first time.\n",
    "    \n",
    "    Returns:\n",
    "        sorted_list: Python List, the sorted the list.\n",
    "    \"\"\"\n",
    "\n",
    "    if low < high:\n",
    "        pi = partitition(arr, low, high)\n",
    "        quick_sort(arr, low, pi-1)\n",
    "        quick_sort(arr, pi+1, high)\n",
    "    \n",
    "    return arr "
   ]
  },
  {
   "cell_type": "code",
   "execution_count": 151,
   "metadata": {},
   "outputs": [
    {
     "name": "stdout",
     "output_type": "stream",
     "text": [
      "Origin:[49, 46, 22, 15, 35, 10, 7, 9, 38, 44]\n",
      "Round 20: [49, 46, 22, 15, 35, 10, 7, 9, 38, 44], Pivot: 44\n",
      "\tSwap index [2](22) <---> [0](49)\n",
      "\tSwap index [3](15) <---> [1](46)\n",
      "\tSwap index [4](35) <---> [2](49)\n",
      "\tSwap index [5](10) <---> [3](46)\n",
      "\tSwap index [6](7) <---> [4](49)\n",
      "\tSwap index [7](9) <---> [5](46)\n",
      "\tSwap index [8](38) <---> [6](49)\n",
      "\tPivot Swap index [9](44) <---> [7](46)\n",
      "Round 21: [22, 15, 35, 10, 7, 9, 38, 44, 49, 46], Pivot: 38\n",
      "\tSwap index [0](22) <---> [0](22)\n",
      "\tSwap index [1](15) <---> [1](15)\n",
      "\tSwap index [2](35) <---> [2](35)\n",
      "\tSwap index [3](10) <---> [3](10)\n",
      "\tSwap index [4](7) <---> [4](7)\n",
      "\tSwap index [5](9) <---> [5](9)\n",
      "\tPivot Swap index [6](38) <---> [6](38)\n",
      "Round 22: [22, 15, 35, 10, 7, 9, 38, 44, 49, 46], Pivot: 9\n",
      "\tSwap index [4](7) <---> [0](22)\n",
      "\tPivot Swap index [5](9) <---> [1](15)\n",
      "Round 23: [7, 9, 35, 10, 22, 15, 38, 44, 49, 46], Pivot: 15\n",
      "\tSwap index [3](10) <---> [2](35)\n",
      "\tPivot Swap index [5](15) <---> [3](35)\n",
      "Round 24: [7, 9, 10, 15, 22, 35, 38, 44, 49, 46], Pivot: 35\n",
      "\tSwap index [4](22) <---> [4](22)\n",
      "\tPivot Swap index [5](35) <---> [5](35)\n",
      "Round 25: [7, 9, 10, 15, 22, 35, 38, 44, 49, 46], Pivot: 46\n",
      "\tPivot Swap index [9](46) <---> [8](49)\n"
     ]
    },
    {
     "data": {
      "text/plain": [
       "[7, 9, 10, 15, 22, 35, 38, 44, 46, 49]"
      ]
     },
     "execution_count": 151,
     "metadata": {},
     "output_type": "execute_result"
    }
   ],
   "source": [
    "import random\n",
    "arr = random.sample(range(0, 50), 10)\n",
    "print('Origin:%s' % arr)\n",
    "quick_sort(arr, 0, 9)"
   ]
  },
  {
   "cell_type": "code",
   "execution_count": null,
   "metadata": {},
   "outputs": [],
   "source": []
  },
  {
   "cell_type": "code",
   "execution_count": null,
   "metadata": {},
   "outputs": [],
   "source": []
  }
 ],
 "metadata": {
  "kernelspec": {
   "display_name": "Python 3",
   "language": "python",
   "name": "python3"
  },
  "language_info": {
   "codemirror_mode": {
    "name": "ipython",
    "version": 3
   },
   "file_extension": ".py",
   "mimetype": "text/x-python",
   "name": "python",
   "nbconvert_exporter": "python",
   "pygments_lexer": "ipython3",
   "version": "3.7.4"
  }
 },
 "nbformat": 4,
 "nbformat_minor": 2
}
