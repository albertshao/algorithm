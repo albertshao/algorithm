{
 "cells": [
  {
   "cell_type": "markdown",
   "metadata": {},
   "source": [
    "# Stack materials \n",
    "1、Youtube: [here](https://www.youtube.com/watch?v=5MOy9VYKczY) <br>\n",
    "2、How to implement a python stack:[here](https://realpython.com/how-to-implement-python-stack/)<br>\n"
   ]
  },
  {
   "cell_type": "code",
   "execution_count": 22,
   "metadata": {},
   "outputs": [],
   "source": [
    "class Node(object):\n",
    "    def __init__(self, d):\n",
    "        self.data = d \n",
    "        self.next = None \n",
    "    \n",
    "    def __str__(self):\n",
    "        return '<Node: %s, next:%s>' % (self.data, self.next != None)\n",
    "    \n",
    "    def __repr__(self):\n",
    "        return str(self)\n",
    "    \n",
    "class Stack(object):\n",
    "    \"\"\"\n",
    "    Initialize the stack object \n",
    "    \"\"\"\n",
    "    def __init__(self):\n",
    "        self.top = None\n",
    "        # The real number of elements \n",
    "        self.size = 0 \n",
    "          \n",
    "    def push(self, d):\n",
    "        \"\"\"\n",
    "        Put the data to stack\n",
    "        Args:\n",
    "            d: any object, the given data \n",
    "        \"\"\"\n",
    "        # 1. Construct the Node with given data \n",
    "        new_node = Node(d)\n",
    "        # 2. Check whether top is empty \n",
    "        if self.top: \n",
    "            new_node.next = self.top \n",
    "        self.top = new_node\n",
    "        \n",
    "        # 3. Increments the size \n",
    "        self.size += 1 \n",
    "        \n",
    "    def pop(self):\n",
    "        \"\"\"\n",
    "        Remove the top data \n",
    "        Returns:\n",
    "            value: the top data or None\n",
    "        \"\"\"\n",
    "        # 1.Check whether top is empty \n",
    "        if self.top is None:\n",
    "            return None \n",
    "        # 2. Replace the top with the next node \n",
    "        result = self.top.data\n",
    "        self.top = self.top.next \n",
    "        \n",
    "        # 3. Decrease size \n",
    "        self.size -= 1\n",
    "        return result \n",
    "    \n",
    "    def peek(self):\n",
    "        \"\"\"\n",
    "        Fetch the top element but top elment willnot be removed\n",
    "        Returns:\n",
    "            value: any type, the top element \n",
    "        \"\"\"\n",
    "        if self.top is None:\n",
    "            return None \n",
    "        return self.top \n",
    "    \n",
    "    def is_empty(self):\n",
    "        \"\"\"\n",
    "        Check whether stack is empty \n",
    "        Returns:\n",
    "            True if size's above zero and False if oppisite.\n",
    "        \"\"\"\n",
    "        if self.size > 0:\n",
    "            return False\n",
    "        else:\n",
    "            return True\n",
    "        \n",
    "        "
   ]
  },
  {
   "cell_type": "code",
   "execution_count": 23,
   "metadata": {},
   "outputs": [
    {
     "data": {
      "text/plain": [
       "False"
      ]
     },
     "execution_count": 23,
     "metadata": {},
     "output_type": "execute_result"
    }
   ],
   "source": [
    "st = Stack()\n",
    "st.push('a')\n",
    "st.push('b')\n",
    "st.push('c')\n",
    "st.size\n",
    "#st.peek()\n",
    "st.pop()\n",
    "st.is_empty()"
   ]
  },
  {
   "cell_type": "code",
   "execution_count": null,
   "metadata": {},
   "outputs": [],
   "source": []
  }
 ],
 "metadata": {
  "kernelspec": {
   "display_name": "Python 3",
   "language": "python",
   "name": "python3"
  },
  "language_info": {
   "codemirror_mode": {
    "name": "ipython",
    "version": 3
   },
   "file_extension": ".py",
   "mimetype": "text/x-python",
   "name": "python",
   "nbconvert_exporter": "python",
   "pygments_lexer": "ipython3",
   "version": "3.7.4"
  }
 },
 "nbformat": 4,
 "nbformat_minor": 2
}
